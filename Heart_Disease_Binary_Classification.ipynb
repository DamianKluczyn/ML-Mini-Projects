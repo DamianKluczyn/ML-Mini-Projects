{
  "nbformat": 4,
  "nbformat_minor": 0,
  "metadata": {
    "colab": {
      "provenance": [],
      "authorship_tag": "ABX9TyNHbPwUVqBXbO/4ci/IbGch",
      "include_colab_link": true
    },
    "kernelspec": {
      "name": "python3",
      "display_name": "Python 3"
    },
    "language_info": {
      "name": "python"
    }
  },
  "cells": [
    {
      "cell_type": "markdown",
      "metadata": {
        "id": "view-in-github",
        "colab_type": "text"
      },
      "source": [
        "<a href=\"https://colab.research.google.com/github/DamianKluczyn/ML-Mini-Projects/blob/main/Heart_Disease_Binary_Classification.ipynb\" target=\"_parent\"><img src=\"https://colab.research.google.com/assets/colab-badge.svg\" alt=\"Open In Colab\"/></a>"
      ]
    },
    {
      "cell_type": "code",
      "execution_count": 26,
      "metadata": {
        "id": "81frk5w5v5za"
      },
      "outputs": [],
      "source": [
        "import pandas as pd\n",
        "\n",
        "heart_data = pd.read_csv('heart.csv')"
      ]
    },
    {
      "cell_type": "markdown",
      "source": [
        "# Overview of data"
      ],
      "metadata": {
        "id": "Gv2zk2Q1wXSz"
      }
    },
    {
      "cell_type": "markdown",
      "source": [
        "1. age - in years\n",
        "2. sex - 1=male, 0=female\n",
        "3. cp - chest pain type (4 values)\n",
        "4. trestbps - resting blood pressure\n",
        "5. chol - serum cholestoral in mg/dl\n",
        "6. fbs - fasting blood sugar > 120 mg/dl - 1=true, 0=false\n",
        "7. restecg - resting electrocardiographic results (values 0,1,2)\n",
        "8. thalach - maximum heart rate achieved\n",
        "9. exang - exercise induced angina\n",
        "10. oldpeak - ST depression induced by exercise relative to rest\n",
        "11. slope - the slope of the peak exercise ST segment\n",
        "12. ca - number of major vessels (0-3) colored by flourosopy\n",
        "13. thal- 0 = normal; 1 = fixed defect; 2 = reversable defect\n",
        "\n"
      ],
      "metadata": {
        "id": "kJJLNKn6wfyD"
      }
    },
    {
      "cell_type": "code",
      "source": [
        "print(heart_data.head())"
      ],
      "metadata": {
        "colab": {
          "base_uri": "https://localhost:8080/"
        },
        "id": "T9orOzAkwqVW",
        "outputId": "761babc6-90a0-4218-900b-876e41b781dc"
      },
      "execution_count": 27,
      "outputs": [
        {
          "output_type": "stream",
          "name": "stdout",
          "text": [
            "   age  sex  cp  trestbps  chol  fbs  restecg  thalach  exang  oldpeak  slope  \\\n",
            "0   52    1   0       125   212    0        1      168      0      1.0      2   \n",
            "1   53    1   0       140   203    1        0      155      1      3.1      0   \n",
            "2   70    1   0       145   174    0        1      125      1      2.6      0   \n",
            "3   61    1   0       148   203    0        1      161      0      0.0      2   \n",
            "4   62    0   0       138   294    1        1      106      0      1.9      1   \n",
            "\n",
            "   ca  thal  target  \n",
            "0   2     3       0  \n",
            "1   0     3       0  \n",
            "2   0     3       0  \n",
            "3   1     3       0  \n",
            "4   3     2       0  \n"
          ]
        }
      ]
    },
    {
      "cell_type": "code",
      "source": [
        "print(heart_data.info())"
      ],
      "metadata": {
        "colab": {
          "base_uri": "https://localhost:8080/"
        },
        "id": "U07T3hKXxVhJ",
        "outputId": "37c9f983-6543-4c3e-f958-1cb2265a2c9e"
      },
      "execution_count": 28,
      "outputs": [
        {
          "output_type": "stream",
          "name": "stdout",
          "text": [
            "<class 'pandas.core.frame.DataFrame'>\n",
            "RangeIndex: 1025 entries, 0 to 1024\n",
            "Data columns (total 14 columns):\n",
            " #   Column    Non-Null Count  Dtype  \n",
            "---  ------    --------------  -----  \n",
            " 0   age       1025 non-null   int64  \n",
            " 1   sex       1025 non-null   int64  \n",
            " 2   cp        1025 non-null   int64  \n",
            " 3   trestbps  1025 non-null   int64  \n",
            " 4   chol      1025 non-null   int64  \n",
            " 5   fbs       1025 non-null   int64  \n",
            " 6   restecg   1025 non-null   int64  \n",
            " 7   thalach   1025 non-null   int64  \n",
            " 8   exang     1025 non-null   int64  \n",
            " 9   oldpeak   1025 non-null   float64\n",
            " 10  slope     1025 non-null   int64  \n",
            " 11  ca        1025 non-null   int64  \n",
            " 12  thal      1025 non-null   int64  \n",
            " 13  target    1025 non-null   int64  \n",
            "dtypes: float64(1), int64(13)\n",
            "memory usage: 112.2 KB\n",
            "None\n"
          ]
        }
      ]
    },
    {
      "cell_type": "code",
      "source": [
        "print(heart_data.describe())"
      ],
      "metadata": {
        "colab": {
          "base_uri": "https://localhost:8080/"
        },
        "id": "CkW0KsWNxY4K",
        "outputId": "b04e44df-e0d3-4250-d08c-98e803d0d837"
      },
      "execution_count": 29,
      "outputs": [
        {
          "output_type": "stream",
          "name": "stdout",
          "text": [
            "               age          sex           cp     trestbps        chol  \\\n",
            "count  1025.000000  1025.000000  1025.000000  1025.000000  1025.00000   \n",
            "mean     54.434146     0.695610     0.942439   131.611707   246.00000   \n",
            "std       9.072290     0.460373     1.029641    17.516718    51.59251   \n",
            "min      29.000000     0.000000     0.000000    94.000000   126.00000   \n",
            "25%      48.000000     0.000000     0.000000   120.000000   211.00000   \n",
            "50%      56.000000     1.000000     1.000000   130.000000   240.00000   \n",
            "75%      61.000000     1.000000     2.000000   140.000000   275.00000   \n",
            "max      77.000000     1.000000     3.000000   200.000000   564.00000   \n",
            "\n",
            "               fbs      restecg      thalach        exang      oldpeak  \\\n",
            "count  1025.000000  1025.000000  1025.000000  1025.000000  1025.000000   \n",
            "mean      0.149268     0.529756   149.114146     0.336585     1.071512   \n",
            "std       0.356527     0.527878    23.005724     0.472772     1.175053   \n",
            "min       0.000000     0.000000    71.000000     0.000000     0.000000   \n",
            "25%       0.000000     0.000000   132.000000     0.000000     0.000000   \n",
            "50%       0.000000     1.000000   152.000000     0.000000     0.800000   \n",
            "75%       0.000000     1.000000   166.000000     1.000000     1.800000   \n",
            "max       1.000000     2.000000   202.000000     1.000000     6.200000   \n",
            "\n",
            "             slope           ca         thal       target  \n",
            "count  1025.000000  1025.000000  1025.000000  1025.000000  \n",
            "mean      1.385366     0.754146     2.323902     0.513171  \n",
            "std       0.617755     1.030798     0.620660     0.500070  \n",
            "min       0.000000     0.000000     0.000000     0.000000  \n",
            "25%       1.000000     0.000000     2.000000     0.000000  \n",
            "50%       1.000000     0.000000     2.000000     1.000000  \n",
            "75%       2.000000     1.000000     3.000000     1.000000  \n",
            "max       2.000000     4.000000     3.000000     1.000000  \n"
          ]
        }
      ]
    },
    {
      "cell_type": "markdown",
      "source": [
        "**We have 13 features which can be usefull to predict heart diseases, every feature is int or float with 0 non values**"
      ],
      "metadata": {
        "id": "JEo4ehpaxd5i"
      }
    },
    {
      "cell_type": "markdown",
      "source": [
        "Distribution of features"
      ],
      "metadata": {
        "id": "ArgKA7j7x2Fe"
      }
    },
    {
      "cell_type": "code",
      "source": [
        "import matplotlib.pyplot as plt\n",
        "\n",
        "heart_data.hist(figsize=(12,10), bins=30, edgecolor=\"black\")\n",
        "plt.subplots_adjust(hspace=0.5, wspace=0.5)\n",
        "plt.show()"
      ],
      "metadata": {
        "colab": {
          "base_uri": "https://localhost:8080/",
          "height": 853
        },
        "id": "iuIX1TtQxy13",
        "outputId": "7bc4ef7e-8abf-44e4-f726-4050463fdaf7"
      },
      "execution_count": 12,
      "outputs": [
        {
          "output_type": "display_data",
          "data": {
            "text/plain": [
              "<Figure size 1200x1000 with 16 Axes>"
            ],
            "image/png": "[encoded data removed]"
          },
          "metadata": {}
        }
      ]
    },
    {
      "cell_type": "code",
      "source": [
        "print(heart_data.describe())"
      ],
      "metadata": {
        "colab": {
          "base_uri": "https://localhost:8080/"
        },
        "id": "3HA08nUcz91N",
        "outputId": "df28aab0-3838-4552-a437-3e138c86f6b3"
      },
      "execution_count": 30,
      "outputs": [
        {
          "output_type": "stream",
          "name": "stdout",
          "text": [
            "               age          sex           cp     trestbps        chol  \\\n",
            "count  1025.000000  1025.000000  1025.000000  1025.000000  1025.00000   \n",
            "mean     54.434146     0.695610     0.942439   131.611707   246.00000   \n",
            "std       9.072290     0.460373     1.029641    17.516718    51.59251   \n",
            "min      29.000000     0.000000     0.000000    94.000000   126.00000   \n",
            "25%      48.000000     0.000000     0.000000   120.000000   211.00000   \n",
            "50%      56.000000     1.000000     1.000000   130.000000   240.00000   \n",
            "75%      61.000000     1.000000     2.000000   140.000000   275.00000   \n",
            "max      77.000000     1.000000     3.000000   200.000000   564.00000   \n",
            "\n",
            "               fbs      restecg      thalach        exang      oldpeak  \\\n",
            "count  1025.000000  1025.000000  1025.000000  1025.000000  1025.000000   \n",
            "mean      0.149268     0.529756   149.114146     0.336585     1.071512   \n",
            "std       0.356527     0.527878    23.005724     0.472772     1.175053   \n",
            "min       0.000000     0.000000    71.000000     0.000000     0.000000   \n",
            "25%       0.000000     0.000000   132.000000     0.000000     0.000000   \n",
            "50%       0.000000     1.000000   152.000000     0.000000     0.800000   \n",
            "75%       0.000000     1.000000   166.000000     1.000000     1.800000   \n",
            "max       1.000000     2.000000   202.000000     1.000000     6.200000   \n",
            "\n",
            "             slope           ca         thal       target  \n",
            "count  1025.000000  1025.000000  1025.000000  1025.000000  \n",
            "mean      1.385366     0.754146     2.323902     0.513171  \n",
            "std       0.617755     1.030798     0.620660     0.500070  \n",
            "min       0.000000     0.000000     0.000000     0.000000  \n",
            "25%       1.000000     0.000000     2.000000     0.000000  \n",
            "50%       1.000000     0.000000     2.000000     1.000000  \n",
            "75%       2.000000     1.000000     3.000000     1.000000  \n",
            "max       2.000000     4.000000     3.000000     1.000000  \n"
          ]
        }
      ]
    },
    {
      "cell_type": "markdown",
      "source": [
        "Looking at data we can see that most of data have normal distribution with few anomalies like oldpeak and chol having most data within medium values and max value is far away from average"
      ],
      "metadata": {
        "id": "kIs8VpUGyvoa"
      }
    },
    {
      "cell_type": "markdown",
      "source": [
        "# Data preparation"
      ],
      "metadata": {
        "id": "BcpCSt2I0pbx"
      }
    },
    {
      "cell_type": "code",
      "source": [
        "X = heart_data.iloc[:, :-1].values\n",
        "Y = heart_data.iloc[:, -1].values"
      ],
      "metadata": {
        "id": "VCKifIA20vQX"
      },
      "execution_count": 31,
      "outputs": []
    },
    {
      "cell_type": "markdown",
      "source": [
        "Data normalization"
      ],
      "metadata": {
        "id": "4dkskt8108Nk"
      }
    },
    {
      "cell_type": "code",
      "source": [
        "from sklearn.preprocessing import StandardScaler\n",
        "\n",
        "scaler = StandardScaler()\n",
        "X = scaler.fit_transform(X)"
      ],
      "metadata": {
        "id": "3s7g7vKx093s"
      },
      "execution_count": 32,
      "outputs": []
    },
    {
      "cell_type": "markdown",
      "source": [
        "Splitting data to training and testing"
      ],
      "metadata": {
        "id": "OfCvizUw1TBy"
      }
    },
    {
      "cell_type": "code",
      "source": [
        "from sklearn.model_selection import train_test_split\n",
        "\n",
        "X_train, X_test, Y_train, Y_test = train_test_split(X, Y, test_size=0.2, random_state=0)"
      ],
      "metadata": {
        "id": "-hqisOCl1AnT"
      },
      "execution_count": 49,
      "outputs": []
    },
    {
      "cell_type": "markdown",
      "source": [
        "# Model training"
      ],
      "metadata": {
        "id": "PbcWCV7c1rTL"
      }
    },
    {
      "cell_type": "code",
      "source": [
        "from sklearn.linear_model import LogisticRegression\n",
        "\n",
        "model = LogisticRegression()\n",
        "model.fit(X_train, Y_train)"
      ],
      "metadata": {
        "colab": {
          "base_uri": "https://localhost:8080/",
          "height": 75
        },
        "id": "5zcj0nB21tfj",
        "outputId": "4dadd350-2aa3-4867-ab99-21c30f0765a8"
      },
      "execution_count": 50,
      "outputs": [
        {
          "output_type": "execute_result",
          "data": {
            "text/plain": [
              "LogisticRegression()"
            ],
            "text/html": [
              "<style>#sk-container-id-5 {color: black;background-color: white;}#sk-container-id-5 pre{padding: 0;}#sk-container-id-5 div.sk-toggleable {background-color: white;}#sk-container-id-5 label.sk-toggleable__label {cursor: pointer;display: block;width: 100%;margin-bottom: 0;padding: 0.3em;box-sizing: border-box;text-align: center;}#sk-container-id-5 label.sk-toggleable__label-arrow:before {content: \"▸\";float: left;margin-right: 0.25em;color: #696969;}#sk-container-id-5 label.sk-toggleable__label-arrow:hover:before {color: black;}#sk-container-id-5 div.sk-estimator:hover label.sk-toggleable__label-arrow:before {color: black;}#sk-container-id-5 div.sk-toggleable__content {max-height: 0;max-width: 0;overflow: hidden;text-align: left;background-color: #f0f8ff;}#sk-container-id-5 div.sk-toggleable__content pre {margin: 0.2em;color: black;border-radius: 0.25em;background-color: #f0f8ff;}#sk-container-id-5 input.sk-toggleable__control:checked~div.sk-toggleable__content {max-height: 200px;max-width: 100%;overflow: auto;}#sk-container-id-5 input.sk-toggleable__control:checked~label.sk-toggleable__label-arrow:before {content: \"▾\";}#sk-container-id-5 div.sk-estimator input.sk-toggleable__control:checked~label.sk-toggleable__label {background-color: #d4ebff;}#sk-container-id-5 div.sk-label input.sk-toggleable__control:checked~label.sk-toggleable__label {background-color: #d4ebff;}#sk-container-id-5 input.sk-hidden--visually {border: 0;clip: rect(1px 1px 1px 1px);clip: rect(1px, 1px, 1px, 1px);height: 1px;margin: -1px;overflow: hidden;padding: 0;position: absolute;width: 1px;}#sk-container-id-5 div.sk-estimator {font-family: monospace;background-color: #f0f8ff;border: 1px dotted black;border-radius: 0.25em;box-sizing: border-box;margin-bottom: 0.5em;}#sk-container-id-5 div.sk-estimator:hover {background-color: #d4ebff;}#sk-container-id-5 div.sk-parallel-item::after {content: \"\";width: 100%;border-bottom: 1px solid gray;flex-grow: 1;}#sk-container-id-5 div.sk-label:hover label.sk-toggleable__label {background-color: #d4ebff;}#sk-container-id-5 div.sk-serial::before {content: \"\";position: absolute;border-left: 1px solid gray;box-sizing: border-box;top: 0;bottom: 0;left: 50%;z-index: 0;}#sk-container-id-5 div.sk-serial {display: flex;flex-direction: column;align-items: center;background-color: white;padding-right: 0.2em;padding-left: 0.2em;position: relative;}#sk-container-id-5 div.sk-item {position: relative;z-index: 1;}#sk-container-id-5 div.sk-parallel {display: flex;align-items: stretch;justify-content: center;background-color: white;position: relative;}#sk-container-id-5 div.sk-item::before, #sk-container-id-5 div.sk-parallel-item::before {content: \"\";position: absolute;border-left: 1px solid gray;box-sizing: border-box;top: 0;bottom: 0;left: 50%;z-index: -1;}#sk-container-id-5 div.sk-parallel-item {display: flex;flex-direction: column;z-index: 1;position: relative;background-color: white;}#sk-container-id-5 div.sk-parallel-item:first-child::after {align-self: flex-end;width: 50%;}#sk-container-id-5 div.sk-parallel-item:last-child::after {align-self: flex-start;width: 50%;}#sk-container-id-5 div.sk-parallel-item:only-child::after {width: 0;}#sk-container-id-5 div.sk-dashed-wrapped {border: 1px dashed gray;margin: 0 0.4em 0.5em 0.4em;box-sizing: border-box;padding-bottom: 0.4em;background-color: white;}#sk-container-id-5 div.sk-label label {font-family: monospace;font-weight: bold;display: inline-block;line-height: 1.2em;}#sk-container-id-5 div.sk-label-container {text-align: center;}#sk-container-id-5 div.sk-container {/* jupyter's `normalize.less` sets `[hidden] { display: none; }` but bootstrap.min.css set `[hidden] { display: none !important; }` so we also need the `!important` here to be able to override the default hidden behavior on the sphinx rendered scikit-learn.org. See: https://github.com/scikit-learn/scikit-learn/issues/21755 */display: inline-block !important;position: relative;}#sk-container-id-5 div.sk-text-repr-fallback {display: none;}</style><div id=\"sk-container-id-5\" class=\"sk-top-container\"><div class=\"sk-text-repr-fallback\"><pre>LogisticRegression()</pre><b>In a Jupyter environment, please rerun this cell to show the HTML representation or trust the notebook. <br />On GitHub, the HTML representation is unable to render, please try loading this page with nbviewer.org.</b></div><div class=\"sk-container\" hidden><div class=\"sk-item\"><div class=\"sk-estimator sk-toggleable\"><input class=\"sk-toggleable__control sk-hidden--visually\" id=\"sk-estimator-id-5\" type=\"checkbox\" checked><label for=\"sk-estimator-id-5\" class=\"sk-toggleable__label sk-toggleable__label-arrow\">LogisticRegression</label><div class=\"sk-toggleable__content\"><pre>LogisticRegression()</pre></div></div></div></div></div>"
            ]
          },
          "metadata": {},
          "execution_count": 50
        }
      ]
    },
    {
      "cell_type": "markdown",
      "source": [
        "Predicting values and evaluating model"
      ],
      "metadata": {
        "id": "_XU9C8UC2Lli"
      }
    },
    {
      "cell_type": "code",
      "source": [
        "from sklearn.metrics import classification_report, confusion_matrix\n",
        "\n",
        "predictions = model.predict(X_test)\n",
        "print(confusion_matrix(Y_test, predictions))\n",
        "print(classification_report(Y_test, predictions))"
      ],
      "metadata": {
        "colab": {
          "base_uri": "https://localhost:8080/"
        },
        "id": "zT-rLUia2OfO",
        "outputId": "573898ae-114f-401c-d8c9-d8a007683877"
      },
      "execution_count": 51,
      "outputs": [
        {
          "output_type": "stream",
          "name": "stdout",
          "text": [
            "[[ 77  21]\n",
            " [  7 100]]\n",
            "              precision    recall  f1-score   support\n",
            "\n",
            "           0       0.92      0.79      0.85        98\n",
            "           1       0.83      0.93      0.88       107\n",
            "\n",
            "    accuracy                           0.86       205\n",
            "   macro avg       0.87      0.86      0.86       205\n",
            "weighted avg       0.87      0.86      0.86       205\n",
            "\n"
          ]
        }
      ]
    },
    {
      "cell_type": "markdown",
      "source": [
        "# Model optimalization"
      ],
      "metadata": {
        "id": "McrPvtjx2ZgS"
      }
    },
    {
      "cell_type": "code",
      "source": [
        "import numpy as np\n",
        "from sklearn.model_selection import GridSearchCV\n",
        "\n",
        "# l1 - Lasso Regression; l2 - Ridge Regression\n",
        "# liblinear - better algorithm for smaller datasets than sag and saga which are better for larger datasets\n",
        "param_grid = {'penalty': ['l1', 'l2'], 'C': np.logspace(-4, 4, 20), 'solver': ['liblinear']}\n",
        "\n",
        "# Optimalization with testing all the values from 'param_grid'\n",
        "# cv - number of folds in cross validation\n",
        "# verbose - function will print more info\n",
        "# n_jobs - how much cores will function use\n",
        "clf = GridSearchCV(LogisticRegression(), param_grid=param_grid, cv=5, verbose=True, n_jobs=-1)\n",
        "\n",
        "# Searching for best model optimalization\n",
        "best_clf = clf.fit(X_train, Y_train)"
      ],
      "metadata": {
        "colab": {
          "base_uri": "https://localhost:8080/"
        },
        "id": "jlYWBncr2_0m",
        "outputId": "6f2c28b0-9cb4-48a5-d0c4-37d586efd02a"
      },
      "execution_count": 52,
      "outputs": [
        {
          "output_type": "stream",
          "name": "stdout",
          "text": [
            "Fitting 5 folds for each of 40 candidates, totalling 200 fits\n"
          ]
        }
      ]
    },
    {
      "cell_type": "markdown",
      "source": [
        "Predictions and evaluation"
      ],
      "metadata": {
        "id": "Id2fISz15bDX"
      }
    },
    {
      "cell_type": "code",
      "source": [
        "predictions_new = best_clf.predict(X_test)\n",
        "\n",
        "print(\"Old model:\")\n",
        "print(confusion_matrix(Y_test, predictions))\n",
        "print(classification_report(Y_test, predictions))\n",
        "\n",
        "print(\"\\nNew model:\")\n",
        "print(confusion_matrix(Y_test, predictions_new))\n",
        "print(classification_report(Y_test, predictions_new))"
      ],
      "metadata": {
        "colab": {
          "base_uri": "https://localhost:8080/"
        },
        "id": "IHi7PQ3O5hYl",
        "outputId": "06ca16b7-159a-4591-8b62-fb61f30b0430"
      },
      "execution_count": 53,
      "outputs": [
        {
          "output_type": "stream",
          "name": "stdout",
          "text": [
            "Old model:\n",
            "[[ 77  21]\n",
            " [  7 100]]\n",
            "              precision    recall  f1-score   support\n",
            "\n",
            "           0       0.92      0.79      0.85        98\n",
            "           1       0.83      0.93      0.88       107\n",
            "\n",
            "    accuracy                           0.86       205\n",
            "   macro avg       0.87      0.86      0.86       205\n",
            "weighted avg       0.87      0.86      0.86       205\n",
            "\n",
            "\n",
            "New model:\n",
            "[[ 77  21]\n",
            " [  7 100]]\n",
            "              precision    recall  f1-score   support\n",
            "\n",
            "           0       0.92      0.79      0.85        98\n",
            "           1       0.83      0.93      0.88       107\n",
            "\n",
            "    accuracy                           0.86       205\n",
            "   macro avg       0.87      0.86      0.86       205\n",
            "weighted avg       0.87      0.86      0.86       205\n",
            "\n"
          ]
        }
      ]
    },
    {
      "cell_type": "markdown",
      "source": [
        "# As we can see old and new model have exactly same results. This could mean several things:\n",
        "\n",
        "\n",
        "1.   There was no optimalization needed\n",
        "2.   Parameter changes did not affect the result\n",
        "3.   The model is stable - this is very good news as the model is doing well with new data\n",
        "\n"
      ],
      "metadata": {
        "id": "7fyAQKmY6BwI"
      }
    }
  ]
}